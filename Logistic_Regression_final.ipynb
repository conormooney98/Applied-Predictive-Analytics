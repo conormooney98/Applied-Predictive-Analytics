{
  "nbformat": 4,
  "nbformat_minor": 0,
  "metadata": {
    "colab": {
      "name": "Logistic_Regression_final.ipynb",
      "provenance": [],
      "collapsed_sections": [],
      "authorship_tag": "ABX9TyMIRmaakRLDxPGzV3Ve1zXm",
      "include_colab_link": true
    },
    "kernelspec": {
      "name": "python3",
      "display_name": "Python 3"
    },
    "language_info": {
      "name": "python"
    }
  },
  "cells": [
    {
      "cell_type": "markdown",
      "metadata": {
        "id": "view-in-github",
        "colab_type": "text"
      },
      "source": [
        "<a href=\"https://colab.research.google.com/github/conormooney98/Applied-Predictive-Analytics/blob/main/Logistic_Regression_final.ipynb\" target=\"_parent\"><img src=\"https://colab.research.google.com/assets/colab-badge.svg\" alt=\"Open In Colab\"/></a>"
      ]
    },
    {
      "cell_type": "markdown",
      "source": [
        "# Logistic Regression Model"
      ],
      "metadata": {
        "id": "rVXp_iazMIFr"
      }
    },
    {
      "cell_type": "markdown",
      "source": [
        "##Import the libraries"
      ],
      "metadata": {
        "id": "nCNbalLPMLDi"
      }
    },
    {
      "cell_type": "code",
      "execution_count": 1,
      "metadata": {
        "id": "7BwCBP4sL5vB"
      },
      "outputs": [],
      "source": [
        "import pandas as pd\n",
        "import pylab as pl\n",
        "import numpy as np\n",
        "import scipy.optimize as opt\n",
        "from sklearn import preprocessing\n",
        "%matplotlib inline \n",
        "import matplotlib.pyplot as plt"
      ]
    },
    {
      "cell_type": "markdown",
      "source": [
        "## Load Data From CSV File"
      ],
      "metadata": {
        "id": "febABXBcMZuv"
      }
    },
    {
      "cell_type": "code",
      "source": [
        "dataset = pd.read_csv(\"NBAdata5new.csv\")"
      ],
      "metadata": {
        "id": "Kcwukfx7Macw"
      },
      "execution_count": 2,
      "outputs": []
    },
    {
      "cell_type": "code",
      "source": [
        "# Data pre-processing and selection\n",
        "\n",
        "dataset['TEAM'] = dataset['TEAM'].astype('category')\n",
        "dataset['enc_Team'] = dataset['TEAM'].cat.codes\n",
        "data1 = dataset\n",
        "X = dataset.drop(labels=['WL','TEAM','Date', '+/-', 'FTM', '3PA', 'PF', 'FTM', '3PM', 'OREB'], axis=1).values\n",
        "y = dataset[\"WL\"].values"
      ],
      "metadata": {
        "id": "8xLBZdLbMjEJ"
      },
      "execution_count": 3,
      "outputs": []
    },
    {
      "cell_type": "code",
      "source": [
        "dataset.shape"
      ],
      "metadata": {
        "colab": {
          "base_uri": "https://localhost:8080/"
        },
        "id": "x5cUf1BWMneO",
        "outputId": "ebf40581-0826-46f5-c876-12f54fd56166"
      },
      "execution_count": 4,
      "outputs": [
        {
          "output_type": "execute_result",
          "data": {
            "text/plain": [
              "(500, 24)"
            ]
          },
          "metadata": {},
          "execution_count": 4
        }
      ]
    },
    {
      "cell_type": "code",
      "source": [
        "#Also, we normalize the dataset\n",
        "\n",
        "from sklearn import preprocessing\n",
        "X = preprocessing.StandardScaler().fit(X).transform(X)"
      ],
      "metadata": {
        "id": "U2_6LkLyMoJ_"
      },
      "execution_count": 5,
      "outputs": []
    },
    {
      "cell_type": "code",
      "source": [
        "#We split our dataset into train and test set\n",
        "\n",
        "from sklearn.model_selection import train_test_split\n",
        "X_train, X_test, y_train, y_test = train_test_split( X, y, test_size=0.2, random_state=4)\n",
        "print ('Train set:', X_train.shape,  y_train.shape)\n",
        "print ('Test set:', X_test.shape,  y_test.shape)"
      ],
      "metadata": {
        "colab": {
          "base_uri": "https://localhost:8080/"
        },
        "id": "dV9-pEkQM1Vq",
        "outputId": "f30e5730-567f-4f5a-8e6b-767c0cc66aad"
      },
      "execution_count": 6,
      "outputs": [
        {
          "output_type": "stream",
          "name": "stdout",
          "text": [
            "Train set: (400, 15) (400,)\n",
            "Test set: (100, 15) (100,)\n"
          ]
        }
      ]
    },
    {
      "cell_type": "markdown",
      "source": [
        "## Modeling (Logistic Regression with Sklearn)"
      ],
      "metadata": {
        "id": "8SmrY8q7NDXn"
      }
    },
    {
      "cell_type": "code",
      "source": [
        "from sklearn.linear_model import LogisticRegression\n",
        "from sklearn.metrics import confusion_matrix\n",
        "LR = LogisticRegression(C=1).fit(X_train,y_train)\n",
        "LR"
      ],
      "metadata": {
        "colab": {
          "base_uri": "https://localhost:8080/"
        },
        "id": "ITAX9H4NNC18",
        "outputId": "2c721ed0-d81d-43f2-95d2-d8265855d061"
      },
      "execution_count": 7,
      "outputs": [
        {
          "output_type": "execute_result",
          "data": {
            "text/plain": [
              "LogisticRegression(C=1)"
            ]
          },
          "metadata": {},
          "execution_count": 7
        }
      ]
    },
    {
      "cell_type": "code",
      "source": [
        "#Now we can predict using our test set\n",
        "yhat = LR.predict(X_test)"
      ],
      "metadata": {
        "id": "Lsqy7llZNOH_"
      },
      "execution_count": 8,
      "outputs": []
    },
    {
      "cell_type": "code",
      "source": [
        "#predict_proba returns estimates for all classes, ordered by the label of classes. \n",
        "#So, the first column is the probability of class 0, P(Y=0|X), and second column is probability of class 1, P(Y=1|X)\n",
        "\n",
        "yhat_prob = LR.predict_proba(X_test)"
      ],
      "metadata": {
        "id": "hArw0bXKNQpW"
      },
      "execution_count": 9,
      "outputs": []
    },
    {
      "cell_type": "markdown",
      "source": [
        "### Confusion Matrix"
      ],
      "metadata": {
        "id": "IRQahxKdNb3D"
      }
    },
    {
      "cell_type": "code",
      "source": [
        "from sklearn.metrics import classification_report, confusion_matrix\n",
        "import itertools\n",
        "def plot_confusion_matrix(cm, classes,\n",
        "                          normalize=False,\n",
        "                          title='Confusion matrix',\n",
        "                          cmap=plt.cm.Blues):\n",
        "\n",
        "    plt.imshow(cm, interpolation='nearest', cmap=cmap)\n",
        "    plt.title(title)\n",
        "    plt.colorbar()\n",
        "    tick_marks = np.arange(len(classes))\n",
        "    plt.xticks(tick_marks, classes, rotation=45)\n",
        "    plt.yticks(tick_marks, classes)\n",
        "\n",
        "    fmt = '.0f'\n",
        "    thresh = cm.max() / 2.\n",
        "    for i, j in itertools.product(range(cm.shape[0]), range(cm.shape[1])):\n",
        "        plt.text(j, i, format(cm[i, j], fmt),\n",
        "                 horizontalalignment=\"center\",\n",
        "                 color=\"white\" if cm[i, j] > thresh else \"black\")\n",
        "\n",
        "    plt.tight_layout()\n",
        "    plt.ylabel('True label')\n",
        "    plt.xlabel('Predicted label')\n",
        "print(confusion_matrix(y_test, yhat, labels=[1,0]))"
      ],
      "metadata": {
        "colab": {
          "base_uri": "https://localhost:8080/"
        },
        "id": "b090EAQ0NUkE",
        "outputId": "6369585a-fa75-4e0f-fd6e-6024b8e0cb26"
      },
      "execution_count": 10,
      "outputs": [
        {
          "output_type": "stream",
          "name": "stdout",
          "text": [
            "[[44  6]\n",
            " [ 6 44]]\n"
          ]
        }
      ]
    },
    {
      "cell_type": "code",
      "source": [
        "# Compute confusion matrix\n",
        "cnf_matrix = confusion_matrix(y_test, yhat, labels=[1,0])\n",
        "np.set_printoptions(precision=2)\n",
        "\n",
        "\n",
        "# Plot non-normalized confusion matrix\n",
        "plt.figure()\n",
        "plot_confusion_matrix(cnf_matrix, classes=['Win=1','Loss=0'],  title='Confusion matrix')"
      ],
      "metadata": {
        "colab": {
          "base_uri": "https://localhost:8080/",
          "height": 311
        },
        "id": "faiVn4BaNi8t",
        "outputId": "700d8d5c-ff15-40d8-e974-9feac1087843"
      },
      "execution_count": 11,
      "outputs": [
        {
          "output_type": "display_data",
          "data": {
            "text/plain": [
              "<Figure size 432x288 with 2 Axes>"
            ],
            "image/png": "[encoded data removed]"
          },
          "metadata": {
            "needs_background": "light"
          }
        }
      ]
    },
    {
      "cell_type": "code",
      "source": [
        "#Classification report\n",
        "print(classification_report(y_test, yhat))"
      ],
      "metadata": {
        "colab": {
          "base_uri": "https://localhost:8080/"
        },
        "id": "K2FDQwHxNlul",
        "outputId": "0248ce8b-fd26-448f-a6d0-b85245e5d482"
      },
      "execution_count": 12,
      "outputs": [
        {
          "output_type": "stream",
          "name": "stdout",
          "text": [
            "              precision    recall  f1-score   support\n",
            "\n",
            "           0       0.88      0.88      0.88        50\n",
            "           1       0.88      0.88      0.88        50\n",
            "\n",
            "    accuracy                           0.88       100\n",
            "   macro avg       0.88      0.88      0.88       100\n",
            "weighted avg       0.88      0.88      0.88       100\n",
            "\n"
          ]
        }
      ]
    },
    {
      "cell_type": "markdown",
      "source": [
        "### Log Loss"
      ],
      "metadata": {
        "id": "-1BNdwJmNpnM"
      }
    },
    {
      "cell_type": "code",
      "source": [
        "from sklearn.metrics import log_loss\n",
        "log_loss(y_test, yhat_prob)"
      ],
      "metadata": {
        "colab": {
          "base_uri": "https://localhost:8080/"
        },
        "id": "tNbe-WJsNrxQ",
        "outputId": "aa2b93b5-1b06-4878-94ea-73e301bd8297"
      },
      "execution_count": 13,
      "outputs": [
        {
          "output_type": "execute_result",
          "data": {
            "text/plain": [
              "0.28779690568238786"
            ]
          },
          "metadata": {},
          "execution_count": 13
        }
      ]
    },
    {
      "cell_type": "code",
      "source": [
        "#Print log loss\n",
        "model = LogisticRegression(C=1)\n",
        "LR = model.fit(X_train,y_train)\n",
        "y_prediction = LR.predict_proba(X_test)\n",
        "print(\"LogLoss: %.3f\" % log_loss(y_test, y_prediction))"
      ],
      "metadata": {
        "colab": {
          "base_uri": "https://localhost:8080/"
        },
        "id": "eJ_L5EYMNwyi",
        "outputId": "764773c8-891b-4b2b-879b-36d97db0e142"
      },
      "execution_count": 14,
      "outputs": [
        {
          "output_type": "stream",
          "name": "stdout",
          "text": [
            "LogLoss: 0.288\n"
          ]
        }
      ]
    },
    {
      "cell_type": "code",
      "source": [
        "#Import evaluation metrics and call results\n",
        "from sklearn.metrics import confusion_matrix, accuracy_score,precision_score,recall_score,f1_score\n",
        "\n",
        "accuracy = accuracy_score(y_test, yhat)\n",
        "precision=precision_score(y_test, yhat)\n",
        "recall=recall_score(y_test, yhat)\n",
        "f1= f1_score(y_test, yhat)\n",
        "\n",
        "print(\"Accuracy :\", round(accuracy,2) )\n",
        "print(\"Precision :\", round(precision,2))\n",
        "print(\"Recall :\", round(recall,2))\n",
        "print(\"F1 :\", round(f1,2))"
      ],
      "metadata": {
        "colab": {
          "base_uri": "https://localhost:8080/"
        },
        "id": "CHaLa0jVN0h2",
        "outputId": "77b98615-6347-4814-9332-6ac7b88ba414"
      },
      "execution_count": 15,
      "outputs": [
        {
          "output_type": "stream",
          "name": "stdout",
          "text": [
            "Accuracy : 0.88\n",
            "Precision : 0.88\n",
            "Recall : 0.88\n",
            "F1 : 0.88\n"
          ]
        }
      ]
    },
    {
      "cell_type": "code",
      "source": [
        "#Cross Validation\n",
        "from sklearn.model_selection import KFold\n",
        "from sklearn.model_selection import cross_val_score\n",
        "from numpy import mean\n",
        "from numpy import std\n",
        "\n",
        "C_range = [0.001, 0.005, 0.01, 0.05, 0.1, 0.5, 1, 5, 10, 50, 100, 500, 1000]\n",
        "mean_acc=np.zeros((len(C_range)))\n",
        "std_acc=np.zeros((len(C_range)))\n",
        "cv = KFold(n_splits=5, random_state=1, shuffle=True)\n",
        "\n",
        "mean_acc=np.zeros((len(C_range)))\n",
        "std_acc=np.zeros((len(C_range)))\n",
        "ConfustionMx=[];\n",
        "i = 0\n",
        "for C in C_range:\n",
        "    classifier = model = LogisticRegression(C=C)\n",
        "    scores = cross_val_score(classifier, X_train, y_train, scoring='accuracy', cv=cv, n_jobs=-1)\n",
        "    mean_acc[i]= mean(scores)\n",
        "    std_acc[i]= std(scores)\n",
        "    i = i + 1"
      ],
      "metadata": {
        "id": "JeUMy-LJN9Ob"
      },
      "execution_count": 16,
      "outputs": []
    },
    {
      "cell_type": "code",
      "source": [
        "#Lets visualize what we have done\n",
        "plt.plot(C_range, mean_acc,'g')\n",
        "plt.fill_between(C_range, mean_acc - 1 * std_acc, mean_acc + 1 * std_acc, alpha=0.2)\n",
        "plt.legend(('Mean', '+/- 3xstd'))\n",
        "plt.ylabel('Accuracy')\n",
        "plt.xlabel('Penalty Value (C)')\n",
        "plt.xscale('log')\n",
        "plt.tight_layout()\n",
        "plt.show()"
      ],
      "metadata": {
        "colab": {
          "base_uri": "https://localhost:8080/",
          "height": 297
        },
        "id": "Et-YVkcfOHHB",
        "outputId": "4695a2c1-5bad-4536-ace4-fe20b473a66e"
      },
      "execution_count": 17,
      "outputs": [
        {
          "output_type": "display_data",
          "data": {
            "text/plain": [
              "<Figure size 432x288 with 1 Axes>"
            ],
            "image/png": "[encoded data removed]"
          },
          "metadata": {
            "needs_background": "light"
          }
        }
      ]
    },
    {
      "cell_type": "code",
      "source": [
        "print(mean_acc)"
      ],
      "metadata": {
        "colab": {
          "base_uri": "https://localhost:8080/"
        },
        "id": "8G3jmO_pOJqE",
        "outputId": "fbef3726-17a4-4b9b-defa-dbd10951fb40"
      },
      "execution_count": 18,
      "outputs": [
        {
          "output_type": "stream",
          "name": "stdout",
          "text": [
            "[0.78 0.81 0.83 0.86 0.87 0.87 0.88 0.87 0.86 0.86 0.87 0.87 0.87]\n"
          ]
        }
      ]
    },
    {
      "cell_type": "code",
      "source": [
        "print(std_acc)"
      ],
      "metadata": {
        "colab": {
          "base_uri": "https://localhost:8080/"
        },
        "id": "IFJL7-KrONQD",
        "outputId": "fbe5c2b7-05f5-42df-cc07-eed41dfcc7e4"
      },
      "execution_count": 19,
      "outputs": [
        {
          "output_type": "stream",
          "name": "stdout",
          "text": [
            "[0.02 0.01 0.01 0.02 0.01 0.03 0.03 0.03 0.04 0.04 0.04 0.04 0.04]\n"
          ]
        }
      ]
    }
  ]
}