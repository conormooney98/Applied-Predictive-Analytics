{
  "nbformat": 4,
  "nbformat_minor": 0,
  "metadata": {
    "colab": {
      "name": "Random_Forest_final.ipynb",
      "provenance": [],
      "collapsed_sections": [],
      "authorship_tag": "ABX9TyOukzBnv8z3Tgk4mB9796lZ",
      "include_colab_link": true
    },
    "kernelspec": {
      "name": "python3",
      "display_name": "Python 3"
    },
    "language_info": {
      "name": "python"
    }
  },
  "cells": [
    {
      "cell_type": "markdown",
      "metadata": {
        "id": "view-in-github",
        "colab_type": "text"
      },
      "source": [
        "<a href=\"https://colab.research.google.com/github/conormooney98/NBA-Predictive-Analytics/blob/main/Random_Forest_final.ipynb\" target=\"_parent\"><img src=\"https://colab.research.google.com/assets/colab-badge.svg\" alt=\"Open In Colab\"/></a>"
      ]
    },
    {
      "cell_type": "markdown",
      "source": [
        "#Random Forest Model"
      ],
      "metadata": {
        "id": "usLff3VO_hw7"
      }
    },
    {
      "cell_type": "markdown",
      "source": [
        "##Importing the libraries"
      ],
      "metadata": {
        "id": "8i8o44qu_j5_"
      }
    },
    {
      "cell_type": "code",
      "execution_count": null,
      "metadata": {
        "id": "R9kSk5T6_clc"
      },
      "outputs": [],
      "source": [
        "import numpy as np\n",
        "import pandas as pd\n",
        "import matplotlib.pyplot as plt\n",
        "import seaborn as sns\n",
        "\n",
        "%matplotlib inline\n",
        "\n",
        "from sklearn.model_selection import train_test_split\n",
        "from sklearn.ensemble import RandomForestClassifier\n",
        "from sklearn.metrics import accuracy_score\n",
        "from sklearn.preprocessing import StandardScaler\n",
        "from matplotlib import rcParams\n",
        "import warnings\n",
        "\n",
        "warnings.filterwarnings(\"ignore\")\n",
        "\n",
        "# Figure size in inches\n",
        "rcParams[\"figure.figsize\"] = 10, 6\n",
        "np.random.seed(42)"
      ]
    },
    {
      "cell_type": "markdown",
      "source": [
        "## Load Dataset"
      ],
      "metadata": {
        "id": "Yb7devdN_pZ7"
      }
    },
    {
      "cell_type": "code",
      "source": [
        "# Load dataset\n",
        "data = pd.read_csv(\"NBAdata5new.csv\")"
      ],
      "metadata": {
        "id": "9GsZCc7E_rjb"
      },
      "execution_count": null,
      "outputs": []
    },
    {
      "cell_type": "code",
      "source": [
        "# Show columns\n",
        "data.columns"
      ],
      "metadata": {
        "colab": {
          "base_uri": "https://localhost:8080/"
        },
        "id": "WcfChJ6j_uTD",
        "outputId": "25a5aa7c-01c1-4b2a-db36-36633f2b289e"
      },
      "execution_count": null,
      "outputs": [
        {
          "output_type": "execute_result",
          "data": {
            "text/plain": [
              "Index(['TEAM', 'Date', 'WL', 'HA', 'FGM', 'FGA', 'FG%', '3PM', '3PA', '3P%',\n",
              "       'FTM', 'FTA', 'FT%', 'OREB', 'DREB', 'REB', 'AST', 'STL', 'BLK', 'TO',\n",
              "       'PF', 'PTS', '+/-'],\n",
              "      dtype='object')"
            ]
          },
          "metadata": {},
          "execution_count": 3
        }
      ]
    },
    {
      "cell_type": "markdown",
      "source": [
        "## Data Preprocessing"
      ],
      "metadata": {
        "id": "-YE4rrBK_zG3"
      }
    },
    {
      "cell_type": "code",
      "source": [
        "# Split data into input and taget variable(s)\n",
        "\n",
        "data['TEAM'] = data['TEAM'].astype('category')\n",
        "data['enc_Team'] = data['TEAM'].cat.codes\n",
        "data1 = data\n",
        "X=data.drop(labels=['WL','TEAM','Date', '+/-'], axis=1)\n",
        "y = data[\"WL\"]"
      ],
      "metadata": {
        "id": "90tpAc3L_0KG"
      },
      "execution_count": null,
      "outputs": []
    },
    {
      "cell_type": "code",
      "source": [
        "# Standardize the dataset\n",
        "scaler = StandardScaler()\n",
        "X_scaled = scaler.fit_transform(X)"
      ],
      "metadata": {
        "id": "zSXgqKQnAIL9"
      },
      "execution_count": null,
      "outputs": []
    },
    {
      "cell_type": "code",
      "source": [
        "# Split into train and test set\n",
        "X_train, X_test, y_train, y_test = train_test_split(\n",
        "    X_scaled, y, stratify=y, test_size=0.2, random_state=0\n",
        ")"
      ],
      "metadata": {
        "id": "s0W0uHRQAKGG"
      },
      "execution_count": null,
      "outputs": []
    },
    {
      "cell_type": "markdown",
      "source": [
        "## Create Random Forest Model"
      ],
      "metadata": {
        "id": "sBEckgsBANN5"
      }
    },
    {
      "cell_type": "code",
      "source": [
        "# Create the classifier\n",
        "\n",
        "# Optimal number of estimators from cross validation\n",
        "n_estimators=24\n",
        "max_depth=50\n",
        "random_state=10\n",
        "\n",
        "classifier = RandomForestClassifier(n_estimators=n_estimators, max_depth=max_depth, random_state=random_state)\n",
        "\n",
        "# Train the model using the training sets\n",
        "classifier.fit(X, y)"
      ],
      "metadata": {
        "colab": {
          "base_uri": "https://localhost:8080/"
        },
        "id": "pbNG1xxzAMtq",
        "outputId": "e67799dc-7951-4b33-8add-3addfedf2d15"
      },
      "execution_count": null,
      "outputs": [
        {
          "output_type": "execute_result",
          "data": {
            "text/plain": [
              "RandomForestClassifier(max_depth=50, n_estimators=24, random_state=10)"
            ]
          },
          "metadata": {},
          "execution_count": 7
        }
      ]
    },
    {
      "cell_type": "code",
      "source": [
        "# Predicting on the test set\n",
        "y_pred = classifier.predict(X_test)"
      ],
      "metadata": {
        "id": "Bgh9UCnNAMsb"
      },
      "execution_count": null,
      "outputs": []
    },
    {
      "cell_type": "code",
      "source": [
        "# Calculate Model Accuracy\n",
        "print(\"Accuracy:\", accuracy_score(y_test, y_pred))"
      ],
      "metadata": {
        "colab": {
          "base_uri": "https://localhost:8080/"
        },
        "id": "q3TOPLKoAMqK",
        "outputId": "beed8c06-27a2-410d-cd24-0077c83b93c2"
      },
      "execution_count": null,
      "outputs": [
        {
          "output_type": "stream",
          "name": "stdout",
          "text": [
            "Accuracy: 0.5\n"
          ]
        }
      ]
    },
    {
      "cell_type": "code",
      "source": [
        "# Check Important features\n",
        "feature_importances_df = pd.DataFrame(\n",
        "    {\"feature\": list(X.columns), \"importance\": classifier.feature_importances_}\n",
        ").sort_values(\"importance\", ascending=False)\n",
        "\n",
        "# Display\n",
        "feature_importances_df"
      ],
      "metadata": {
        "colab": {
          "base_uri": "https://localhost:8080/",
          "height": 676
        },
        "id": "m4iMDSsAAbVC",
        "outputId": "f67a5542-6d62-4490-e72e-03c9bd844013"
      },
      "execution_count": null,
      "outputs": [
        {
          "output_type": "execute_result",
          "data": {
            "text/plain": [
              "     feature  importance\n",
              "3        FG%    0.131521\n",
              "11      DREB    0.102076\n",
              "1        FGM    0.090594\n",
              "6        3P%    0.083013\n",
              "18       PTS    0.073603\n",
              "12       REB    0.071176\n",
              "13       AST    0.059799\n",
              "14       STL    0.044081\n",
              "9        FT%    0.043601\n",
              "2        FGA    0.041861\n",
              "7        FTM    0.034680\n",
              "16        TO    0.033341\n",
              "19  enc_Team    0.030245\n",
              "5        3PA    0.027508\n",
              "17        PF    0.027431\n",
              "4        3PM    0.025716\n",
              "8        FTA    0.023878\n",
              "10      OREB    0.023848\n",
              "15       BLK    0.022552\n",
              "0         HA    0.009476"
            ],
            "text/html": [
              "\n",
              "  <div id=\"df-d87cd930-90aa-4c9c-9f91-5cb6ee739782\">\n",
              "    <div class=\"colab-df-container\">\n",
              "      <div>\n",
              "<style scoped>\n",
              "    .dataframe tbody tr th:only-of-type {\n",
              "        vertical-align: middle;\n",
              "    }\n",
              "\n",
              "    .dataframe tbody tr th {\n",
              "        vertical-align: top;\n",
              "    }\n",
              "\n",
              "    .dataframe thead th {\n",
              "        text-align: right;\n",
              "    }\n",
              "</style>\n",
              "<table border=\"1\" class=\"dataframe\">\n",
              "  <thead>\n",
              "    <tr style=\"text-align: right;\">\n",
              "      <th></th>\n",
              "      <th>feature</th>\n",
              "      <th>importance</th>\n",
              "    </tr>\n",
              "  </thead>\n",
              "  <tbody>\n",
              "    <tr>\n",
              "      <th>3</th>\n",
              "      <td>FG%</td>\n",
              "      <td>0.131521</td>\n",
              "    </tr>\n",
              "    <tr>\n",
              "      <th>11</th>\n",
              "      <td>DREB</td>\n",
              "      <td>0.102076</td>\n",
              "    </tr>\n",
              "    <tr>\n",
              "      <th>1</th>\n",
              "      <td>FGM</td>\n",
              "      <td>0.090594</td>\n",
              "    </tr>\n",
              "    <tr>\n",
              "      <th>6</th>\n",
              "      <td>3P%</td>\n",
              "      <td>0.083013</td>\n",
              "    </tr>\n",
              "    <tr>\n",
              "      <th>18</th>\n",
              "      <td>PTS</td>\n",
              "      <td>0.073603</td>\n",
              "    </tr>\n",
              "    <tr>\n",
              "      <th>12</th>\n",
              "      <td>REB</td>\n",
              "      <td>0.071176</td>\n",
              "    </tr>\n",
              "    <tr>\n",
              "      <th>13</th>\n",
              "      <td>AST</td>\n",
              "      <td>0.059799</td>\n",
              "    </tr>\n",
              "    <tr>\n",
              "      <th>14</th>\n",
              "      <td>STL</td>\n",
              "      <td>0.044081</td>\n",
              "    </tr>\n",
              "    <tr>\n",
              "      <th>9</th>\n",
              "      <td>FT%</td>\n",
              "      <td>0.043601</td>\n",
              "    </tr>\n",
              "    <tr>\n",
              "      <th>2</th>\n",
              "      <td>FGA</td>\n",
              "      <td>0.041861</td>\n",
              "    </tr>\n",
              "    <tr>\n",
              "      <th>7</th>\n",
              "      <td>FTM</td>\n",
              "      <td>0.034680</td>\n",
              "    </tr>\n",
              "    <tr>\n",
              "      <th>16</th>\n",
              "      <td>TO</td>\n",
              "      <td>0.033341</td>\n",
              "    </tr>\n",
              "    <tr>\n",
              "      <th>19</th>\n",
              "      <td>enc_Team</td>\n",
              "      <td>0.030245</td>\n",
              "    </tr>\n",
              "    <tr>\n",
              "      <th>5</th>\n",
              "      <td>3PA</td>\n",
              "      <td>0.027508</td>\n",
              "    </tr>\n",
              "    <tr>\n",
              "      <th>17</th>\n",
              "      <td>PF</td>\n",
              "      <td>0.027431</td>\n",
              "    </tr>\n",
              "    <tr>\n",
              "      <th>4</th>\n",
              "      <td>3PM</td>\n",
              "      <td>0.025716</td>\n",
              "    </tr>\n",
              "    <tr>\n",
              "      <th>8</th>\n",
              "      <td>FTA</td>\n",
              "      <td>0.023878</td>\n",
              "    </tr>\n",
              "    <tr>\n",
              "      <th>10</th>\n",
              "      <td>OREB</td>\n",
              "      <td>0.023848</td>\n",
              "    </tr>\n",
              "    <tr>\n",
              "      <th>15</th>\n",
              "      <td>BLK</td>\n",
              "      <td>0.022552</td>\n",
              "    </tr>\n",
              "    <tr>\n",
              "      <th>0</th>\n",
              "      <td>HA</td>\n",
              "      <td>0.009476</td>\n",
              "    </tr>\n",
              "  </tbody>\n",
              "</table>\n",
              "</div>\n",
              "      <button class=\"colab-df-convert\" onclick=\"convertToInteractive('df-d87cd930-90aa-4c9c-9f91-5cb6ee739782')\"\n",
              "              title=\"Convert this dataframe to an interactive table.\"\n",
              "              style=\"display:none;\">\n",
              "        \n",
              "  <svg xmlns=\"http://www.w3.org/2000/svg\" height=\"24px\"viewBox=\"0 0 24 24\"\n",
              "       width=\"24px\">\n",
              "    <path d=\"M0 0h24v24H0V0z\" fill=\"none\"/>\n",
              "    <path d=\"M18.56 5.44l.94 2.06.94-2.06 2.06-.94-2.06-.94-.94-2.06-.94 2.06-2.06.94zm-11 1L8.5 8.5l.94-2.06 2.06-.94-2.06-.94L8.5 2.5l-.94 2.06-2.06.94zm10 10l.94 2.06.94-2.06 2.06-.94-2.06-.94-.94-2.06-.94 2.06-2.06.94z\"/><path d=\"M17.41 7.96l-1.37-1.37c-.4-.4-.92-.59-1.43-.59-.52 0-1.04.2-1.43.59L10.3 9.45l-7.72 7.72c-.78.78-.78 2.05 0 2.83L4 21.41c.39.39.9.59 1.41.59.51 0 1.02-.2 1.41-.59l7.78-7.78 2.81-2.81c.8-.78.8-2.07 0-2.86zM5.41 20L4 18.59l7.72-7.72 1.47 1.35L5.41 20z\"/>\n",
              "  </svg>\n",
              "      </button>\n",
              "      \n",
              "  <style>\n",
              "    .colab-df-container {\n",
              "      display:flex;\n",
              "      flex-wrap:wrap;\n",
              "      gap: 12px;\n",
              "    }\n",
              "\n",
              "    .colab-df-convert {\n",
              "      background-color: #E8F0FE;\n",
              "      border: none;\n",
              "      border-radius: 50%;\n",
              "      cursor: pointer;\n",
              "      display: none;\n",
              "      fill: #1967D2;\n",
              "      height: 32px;\n",
              "      padding: 0 0 0 0;\n",
              "      width: 32px;\n",
              "    }\n",
              "\n",
              "    .colab-df-convert:hover {\n",
              "      background-color: #E2EBFA;\n",
              "      box-shadow: 0px 1px 2px rgba(60, 64, 67, 0.3), 0px 1px 3px 1px rgba(60, 64, 67, 0.15);\n",
              "      fill: #174EA6;\n",
              "    }\n",
              "\n",
              "    [theme=dark] .colab-df-convert {\n",
              "      background-color: #3B4455;\n",
              "      fill: #D2E3FC;\n",
              "    }\n",
              "\n",
              "    [theme=dark] .colab-df-convert:hover {\n",
              "      background-color: #434B5C;\n",
              "      box-shadow: 0px 1px 3px 1px rgba(0, 0, 0, 0.15);\n",
              "      filter: drop-shadow(0px 1px 2px rgba(0, 0, 0, 0.3));\n",
              "      fill: #FFFFFF;\n",
              "    }\n",
              "  </style>\n",
              "\n",
              "      <script>\n",
              "        const buttonEl =\n",
              "          document.querySelector('#df-d87cd930-90aa-4c9c-9f91-5cb6ee739782 button.colab-df-convert');\n",
              "        buttonEl.style.display =\n",
              "          google.colab.kernel.accessAllowed ? 'block' : 'none';\n",
              "\n",
              "        async function convertToInteractive(key) {\n",
              "          const element = document.querySelector('#df-d87cd930-90aa-4c9c-9f91-5cb6ee739782');\n",
              "          const dataTable =\n",
              "            await google.colab.kernel.invokeFunction('convertToInteractive',\n",
              "                                                     [key], {});\n",
              "          if (!dataTable) return;\n",
              "\n",
              "          const docLinkHtml = 'Like what you see? Visit the ' +\n",
              "            '<a target=\"_blank\" href=https://colab.research.google.com/notebooks/data_table.ipynb>data table notebook</a>'\n",
              "            + ' to learn more about interactive tables.';\n",
              "          element.innerHTML = '';\n",
              "          dataTable['output_type'] = 'display_data';\n",
              "          await google.colab.output.renderOutput(dataTable, element);\n",
              "          const docLink = document.createElement('div');\n",
              "          docLink.innerHTML = docLinkHtml;\n",
              "          element.appendChild(docLink);\n",
              "        }\n",
              "      </script>\n",
              "    </div>\n",
              "  </div>\n",
              "  "
            ]
          },
          "metadata": {},
          "execution_count": 10
        }
      ]
    },
    {
      "cell_type": "code",
      "source": [
        "# Visualize important features\n",
        "\n",
        "# Creating a bar plot\n",
        "sns.barplot(x=feature_importances_df.feature, y=feature_importances_df.importance)\n",
        "\n",
        "# Add labels to the plot\n",
        "plt.xlabel(\"Feature Importance Score\")\n",
        "plt.ylabel(\"Features\")\n",
        "plt.title(\"Visualizing Important Features\")\n",
        "plt.xticks(\n",
        "    rotation=45, horizontalalignment=\"right\", fontweight=\"light\", fontsize=\"x-large\"\n",
        ")\n",
        "plt.show()"
      ],
      "metadata": {
        "colab": {
          "base_uri": "https://localhost:8080/",
          "height": 345
        },
        "id": "SEl5-uRcAMmP",
        "outputId": "5c88617a-e57d-4acf-837e-b7a4de420585"
      },
      "execution_count": null,
      "outputs": [
        {
          "output_type": "display_data",
          "data": {
            "text/plain": [
              "<Figure size 432x288 with 1 Axes>"
            ],
            "image/png": "[encoded data removed]"
          },
          "metadata": {
            "needs_background": "light"
          }
        }
      ]
    },
    {
      "cell_type": "markdown",
      "source": [
        "## Generating the Classifier on Selected Features"
      ],
      "metadata": {
        "id": "XlA7TVmVAkWI"
      }
    },
    {
      "cell_type": "code",
      "source": [
        "# Load data with selected features\n",
        "y = data1[\"WL\"]\n",
        "\n",
        "feature_cols = ['FG%', 'DREB', 'FTM', 'PTS', 'REB', 'AST', '3P%', 'FT%', 'STL', 'FGA', 'TO', 'BLK', 'HA']\n",
        "X = data1[feature_cols]\n",
        "# Standardize the dataset\n",
        "scaler = StandardScaler()\n",
        "X_scaled = scaler.fit_transform(X)\n",
        "\n",
        "# Split into train and test set\n",
        "X_train, X_test, y_train, y_test = train_test_split(\n",
        "    X_scaled, y, stratify=y, test_size=0.20, random_state=22\n",
        ")"
      ],
      "metadata": {
        "id": "9I2bQnGRAj_h"
      },
      "execution_count": null,
      "outputs": []
    },
    {
      "cell_type": "code",
      "source": [
        "# Create a Random Classifier\n",
        "clf = RandomForestClassifier(n_estimators=n_estimators, max_depth=max_depth, random_state=random_state)\n",
        "\n",
        "# Train the model using the training sets\n",
        "clf.fit(X_train, y_train)\n",
        "\n",
        "# Prediction on test set\n",
        "y_pred = clf.predict(X_test)\n",
        "\n",
        "# Calculate Model Accuracy,\n",
        "print(\"Accuracy:\", accuracy_score(y_test, y_pred))"
      ],
      "metadata": {
        "colab": {
          "base_uri": "https://localhost:8080/"
        },
        "id": "B0RVma0FAru7",
        "outputId": "75ef37e9-6f0e-4482-dd79-b730c4f2c429"
      },
      "execution_count": null,
      "outputs": [
        {
          "output_type": "stream",
          "name": "stdout",
          "text": [
            "Accuracy: 0.82\n"
          ]
        }
      ]
    },
    {
      "cell_type": "code",
      "source": [
        "# Import evaluation metrics and call results\n",
        "from sklearn.metrics import confusion_matrix, accuracy_score,precision_score,recall_score,f1_score\n",
        "cm = confusion_matrix(y_test, y_pred)\n",
        "print(cm)\n",
        "\n",
        "auc = accuracy_score(y_test, y_pred)\n",
        "precision=precision_score(y_test, y_pred)\n",
        "recall=recall_score(y_test, y_pred)\n",
        "f1= f1_score(y_test, y_pred)\n",
        "print(\"n_estimators=\",n_estimators,\" max_depth=\",max_depth, \"random_state=\" ,random_state)\n",
        "print(\"Accuracy :\", round(auc,2))\n",
        "print(\"Precision :\", round(precision,2))\n",
        "print(\"Recall :\", round(recall,2))\n",
        "print(\"F1 :\", round(f1,2))\n",
        "\n",
        "yhat= y_pred"
      ],
      "metadata": {
        "colab": {
          "base_uri": "https://localhost:8080/"
        },
        "id": "QbpJ93g4Atg3",
        "outputId": "96872d61-c8df-4a6b-8f32-cc3254d4a42d"
      },
      "execution_count": null,
      "outputs": [
        {
          "output_type": "stream",
          "name": "stdout",
          "text": [
            "[[43  7]\n",
            " [11 39]]\n",
            "n_estimators= 24  max_depth= 50 random_state= 10\n",
            "Accuracy : 0.82\n",
            "Precision : 0.85\n",
            "Recall : 0.78\n",
            "F1 : 0.81\n"
          ]
        }
      ]
    },
    {
      "cell_type": "code",
      "source": [
        "from sklearn.metrics import classification_report, confusion_matrix\n",
        "import itertools\n",
        "def plot_confusion_matrix(cm, classes,\n",
        "                          normalize=False,\n",
        "                          title='Confusion matrix',\n",
        "                          cmap=plt.cm.Blues):\n",
        "\n",
        "    plt.imshow(cm, interpolation='nearest', cmap=cmap)\n",
        "    plt.title(title)\n",
        "    plt.colorbar()\n",
        "    tick_marks = np.arange(len(classes))\n",
        "    plt.xticks(tick_marks, classes, rotation=45)\n",
        "    plt.yticks(tick_marks, classes)\n",
        "\n",
        "    fmt = '.0f'\n",
        "    thresh = cm.max() / 2.\n",
        "    for i, j in itertools.product(range(cm.shape[0]), range(cm.shape[1])):\n",
        "        plt.text(j, i, format(cm[i, j], fmt),\n",
        "                 horizontalalignment=\"center\",\n",
        "                 color=\"white\" if cm[i, j] > thresh else \"black\")\n",
        "\n",
        "    plt.tight_layout()\n",
        "    plt.ylabel('True label')\n",
        "    plt.xlabel('Predicted label')\n",
        "print(confusion_matrix(y_test, yhat, labels=[1,0]))"
      ],
      "metadata": {
        "colab": {
          "base_uri": "https://localhost:8080/"
        },
        "id": "9LXLVjjjAvwq",
        "outputId": "0d90b039-1219-461c-e26b-3fce8abd4fa3"
      },
      "execution_count": null,
      "outputs": [
        {
          "output_type": "stream",
          "name": "stdout",
          "text": [
            "[[39 11]\n",
            " [ 7 43]]\n"
          ]
        }
      ]
    },
    {
      "cell_type": "code",
      "source": [
        "# Compute confusion matrix\n",
        "cnf_matrix = confusion_matrix(y_test, yhat, labels=[1,0])\n",
        "np.set_printoptions(precision=2)\n",
        "\n",
        "\n",
        "# Plot non-normalized confusion matrix\n",
        "plt.figure()\n",
        "plot_confusion_matrix(cnf_matrix, classes=['Win=1','Loss=0'],  title='Confusion matrix')"
      ],
      "metadata": {
        "colab": {
          "base_uri": "https://localhost:8080/",
          "height": 311
        },
        "id": "Q_TjT7K2AyGg",
        "outputId": "1048809c-1aba-4885-a498-10a9766ca2a0"
      },
      "execution_count": null,
      "outputs": [
        {
          "output_type": "display_data",
          "data": {
            "text/plain": [
              "<Figure size 432x288 with 2 Axes>"
            ],
            "image/png": "[encoded data removed]"
          },
          "metadata": {
            "needs_background": "light"
          }
        }
      ]
    },
    {
      "cell_type": "code",
      "source": [
        "#Cross Validation\n",
        "\n",
        "from sklearn.model_selection import KFold\n",
        "from sklearn.model_selection import cross_val_score\n",
        "from numpy import mean\n",
        "from numpy import std\n",
        "\n",
        "max_num= 30\n",
        "\n",
        "mean_acc=np.zeros((max_num-1))\n",
        "std_acc=np.zeros((max_num-1))\n",
        "cv = KFold(n_splits=5, random_state=1, shuffle=True)\n",
        "\n",
        "max_depth=50\n",
        "random_state=10\n",
        "\n",
        "for n in range(1, max_num):\n",
        "    classifier = RandomForestClassifier(n_estimators=n, max_depth=max_depth, random_state=random_state)\n",
        "    scores = cross_val_score(classifier, X_train, y_train, scoring='accuracy', cv=cv, n_jobs=-1)\n",
        "    mean_acc[n-1]= mean(scores)\n",
        "    std_acc[n-1]= std(scores)"
      ],
      "metadata": {
        "id": "Gb6gRcHjA2wm"
      },
      "execution_count": null,
      "outputs": []
    },
    {
      "cell_type": "code",
      "source": [
        "#Lets visualize what we have done\n",
        "plt.plot(range(1,max_num),mean_acc,'g')\n",
        "plt.fill_between(range(1,max_num),mean_acc - 1 * std_acc, mean_acc + 1 * std_acc, alpha=0.2)\n",
        "plt.legend(('Mean', '+/- 3xstd'))\n",
        "plt.ylabel('Accuracy')\n",
        "plt.xlabel('Number of Estimators')\n",
        "plt.tight_layout()\n",
        "plt.show()"
      ],
      "metadata": {
        "colab": {
          "base_uri": "https://localhost:8080/",
          "height": 297
        },
        "id": "GbfTHJx9A4mP",
        "outputId": "477934af-47ef-4779-9083-265a5449abce"
      },
      "execution_count": null,
      "outputs": [
        {
          "output_type": "display_data",
          "data": {
            "text/plain": [
              "<Figure size 432x288 with 1 Axes>"
            ],
            "image/png": "[encoded data removed]"
          },
          "metadata": {
            "needs_background": "light"
          }
        }
      ]
    },
    {
      "cell_type": "code",
      "source": [
        "print(\"The best accuracy was with\",mean_acc.max(), \"with n=\",mean_acc.argmax()+1)"
      ],
      "metadata": {
        "colab": {
          "base_uri": "https://localhost:8080/"
        },
        "id": "bCjW7VUdA6os",
        "outputId": "7b5d62bf-397a-447d-8317-2c8ac63e90a5"
      },
      "execution_count": null,
      "outputs": [
        {
          "output_type": "stream",
          "name": "stdout",
          "text": [
            "The best accuracy was with 0.7950000000000002 with n= 24\n"
          ]
        }
      ]
    }
  ]
}