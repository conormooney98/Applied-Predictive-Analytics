{
  "nbformat": 4,
  "nbformat_minor": 0,
  "metadata": {
    "colab": {
      "name": "KNN_final.ipynb",
      "provenance": [],
      "collapsed_sections": [],
      "authorship_tag": "ABX9TyORuA3Bw2pGcIYwLUEE/54O",
      "include_colab_link": true
    },
    "kernelspec": {
      "name": "python3",
      "display_name": "Python 3"
    },
    "language_info": {
      "name": "python"
    }
  },
  "cells": [
    {
      "cell_type": "markdown",
      "metadata": {
        "id": "view-in-github",
        "colab_type": "text"
      },
      "source": [
        "<a href=\"https://colab.research.google.com/github/conormooney98/Applied-Predictive-Analytics/blob/main/KNN_final.ipynb\" target=\"_parent\"><img src=\"https://colab.research.google.com/assets/colab-badge.svg\" alt=\"Open In Colab\"/></a>"
      ]
    },
    {
      "cell_type": "markdown",
      "source": [
        "#KNN model"
      ],
      "metadata": {
        "id": "xaORSIPYSSpF"
      }
    },
    {
      "cell_type": "markdown",
      "source": [
        "##Import the libraries"
      ],
      "metadata": {
        "id": "3bMZpH4ySbum"
      }
    },
    {
      "cell_type": "code",
      "execution_count": 1,
      "metadata": {
        "id": "HsAFS3DSSPXI"
      },
      "outputs": [],
      "source": [
        "import numpy as np\n",
        "import pandas as pd\n",
        "import itertools\n",
        "import matplotlib.pyplot as plt\n",
        "from matplotlib.ticker import NullFormatter\n",
        "import matplotlib.ticker as ticker\n",
        "from sklearn import preprocessing"
      ]
    },
    {
      "cell_type": "markdown",
      "source": [
        "##Import the dataset"
      ],
      "metadata": {
        "id": "AWfRud0rSg33"
      }
    },
    {
      "cell_type": "code",
      "source": [
        "df_main=pd.read_csv(\"NBAdata5new.csv\")"
      ],
      "metadata": {
        "id": "1GrktTDESjUF"
      },
      "execution_count": 2,
      "outputs": []
    },
    {
      "cell_type": "code",
      "source": [
        "# To use sklearn we have to convert the dataframe into a numpy array\n",
        "df_main['TEAM'] = df_main['TEAM'].astype('category')\n",
        "df_main['enc_Team'] = df_main['TEAM'].cat.codes\n",
        "X=df_main.drop(labels=['WL','TEAM','Date', '+/-', 'FTM', '3PA', 'PF', 'FTM', '3PM', 'OREB'], axis=1).values\n",
        "y=df_main['WL'].values"
      ],
      "metadata": {
        "id": "3NEwK3JsSl7_"
      },
      "execution_count": 3,
      "outputs": []
    },
    {
      "cell_type": "markdown",
      "source": [
        "# Normalization"
      ],
      "metadata": {
        "id": "W-sl8cYlTk1d"
      }
    },
    {
      "cell_type": "code",
      "source": [
        "X=preprocessing.StandardScaler().fit(X).transform(X.astype(float))"
      ],
      "metadata": {
        "id": "qwvwJUCeTl8r"
      },
      "execution_count": 4,
      "outputs": []
    },
    {
      "cell_type": "markdown",
      "source": [
        "# Train Test Split"
      ],
      "metadata": {
        "id": "Oo2cNUb5Tsny"
      }
    },
    {
      "cell_type": "code",
      "source": [
        "from sklearn.model_selection import train_test_split\n",
        "X_train, X_test, y_train, y_test=train_test_split(X,y, test_size=0.2, random_state=5)\n",
        "print(\"Train Set:\",X_train.shape, y_train.shape)\n",
        "print(\"Test Set:\",X_test.shape, y_test.shape)"
      ],
      "metadata": {
        "colab": {
          "base_uri": "https://localhost:8080/"
        },
        "id": "g72SEkwoTtcP",
        "outputId": "7574dc94-4d43-46ff-e9f2-0ce3c678ab18"
      },
      "execution_count": 5,
      "outputs": [
        {
          "output_type": "stream",
          "name": "stdout",
          "text": [
            "Train Set: (400, 15) (400,)\n",
            "Test Set: (100, 15) (100,)\n"
          ]
        }
      ]
    },
    {
      "cell_type": "markdown",
      "source": [
        "# Modelling (KNN with sklearn)\n"
      ],
      "metadata": {
        "id": "sRMb6o2YTy76"
      }
    },
    {
      "cell_type": "code",
      "source": [
        "# Importing the library\n",
        "from sklearn.neighbors import KNeighborsClassifier\n",
        "from sklearn import metrics"
      ],
      "metadata": {
        "id": "W0SQJYrfTzuf"
      },
      "execution_count": 6,
      "outputs": []
    },
    {
      "cell_type": "code",
      "source": [
        "#Cross Validation\n",
        "from sklearn.model_selection import KFold\n",
        "from sklearn.model_selection import cross_val_score\n",
        "from numpy import mean\n",
        "from numpy import std\n",
        "\n",
        "K_max=50\n",
        "mean_acc=np.zeros((K_max-1))\n",
        "std_acc=np.zeros((K_max-1))\n",
        "cv = KFold(n_splits=5, random_state=1, shuffle=True)\n",
        "\n",
        "#change 'distance' to 'uniform'\n",
        "weights='distance'\n",
        "#weights='uniform'\n",
        "\n",
        "mean_acc=np.zeros((K_max-1))\n",
        "std_acc=np.zeros((K_max-1))\n",
        "ConfustionMx=[];\n",
        "for n in range(1, K_max):\n",
        "    classifier = KNeighborsClassifier(n_neighbors=n, weights=weights).fit(X_train,y_train)\n",
        "    scores = cross_val_score(classifier, X_train, y_train, scoring='accuracy', cv=cv, n_jobs=-1)\n",
        "    mean_acc[n-1]= mean(scores)\n",
        "    std_acc[n-1]= std(scores)"
      ],
      "metadata": {
        "id": "45e98puyT8cW"
      },
      "execution_count": 7,
      "outputs": []
    },
    {
      "cell_type": "code",
      "source": [
        "#Lets visualize what we have done\n",
        "plt.plot(range(1, K_max),mean_acc,'g')\n",
        "plt.fill_between(range(1, K_max),mean_acc - 1 * std_acc, mean_acc + 1 * std_acc, alpha=0.2)\n",
        "plt.title('Distance')\n",
        "#plt.title('Uniform')\n",
        "plt.legend(('Mean', '+/- 3xstd'))\n",
        "plt.ylabel('Accuracy')\n",
        "plt.xlabel('Number of Neighbours (k)')\n",
        "plt.tight_layout()\n",
        "plt.show()"
      ],
      "metadata": {
        "colab": {
          "base_uri": "https://localhost:8080/",
          "height": 297
        },
        "id": "iMxAScoJT_57",
        "outputId": "1f6cabee-ff0e-427a-f865-ab5fac5c1f06"
      },
      "execution_count": 8,
      "outputs": [
        {
          "output_type": "display_data",
          "data": {
            "text/plain": [
              "<Figure size 432x288 with 1 Axes>"
            ],
            "image/png": "[encoded data removed]"
          },
          "metadata": {
            "needs_background": "light"
          }
        }
      ]
    },
    {
      "cell_type": "code",
      "source": [
        "# Best accuracy for validation set\n",
        "print(\"The best accuracy was with\", mean_acc.max(), \"with k =\",mean_acc.argmax()+1)"
      ],
      "metadata": {
        "colab": {
          "base_uri": "https://localhost:8080/"
        },
        "id": "j0skd1NgUHrn",
        "outputId": "864356bd-d189-49b9-eaa4-0b4e3a2c645d"
      },
      "execution_count": 9,
      "outputs": [
        {
          "output_type": "stream",
          "name": "stdout",
          "text": [
            "The best accuracy was with 0.8325000000000001 with k = 17\n"
          ]
        }
      ]
    },
    {
      "cell_type": "code",
      "source": [
        "# Accuracy for on test set using best k value and weights on validation set\n",
        "from sklearn.metrics import confusion_matrix, accuracy_score,precision_score,recall_score,f1_score\n",
        "classifier = KNeighborsClassifier(n_neighbors=17, weights=weights).fit(X_train,y_train)\n",
        "yhat = classifier.predict(X_test)\n",
        "\n",
        "cm = confusion_matrix(y_test, yhat)\n",
        "print(cm)\n",
        "\n",
        "auc = accuracy_score(y_test, yhat)\n",
        "precision=precision_score(y_test, yhat)\n",
        "recall=recall_score(y_test, yhat)\n",
        "f1= f1_score(y_test, yhat)\n",
        "\n",
        "print(\"Accuracy :\", round(auc,2)) \n",
        "print(\"Precision :\", round(precision,2))\n",
        "print(\"Recall :\", round(recall,2))\n",
        "print(\"F1 :\", round(f1,2))"
      ],
      "metadata": {
        "colab": {
          "base_uri": "https://localhost:8080/"
        },
        "id": "k92YoW2mUM7U",
        "outputId": "f1b602ee-6226-442a-cb46-e30f0148fedb"
      },
      "execution_count": 10,
      "outputs": [
        {
          "output_type": "stream",
          "name": "stdout",
          "text": [
            "[[40  9]\n",
            " [17 34]]\n",
            "Accuracy : 0.74\n",
            "Precision : 0.79\n",
            "Recall : 0.67\n",
            "F1 : 0.72\n"
          ]
        }
      ]
    },
    {
      "cell_type": "markdown",
      "source": [
        "### Confusion Matrix"
      ],
      "metadata": {
        "id": "vxhYTI3qUYky"
      }
    },
    {
      "cell_type": "code",
      "source": [
        "from sklearn.metrics import classification_report, confusion_matrix\n",
        "import itertools\n",
        "def plot_confusion_matrix(cm, classes,\n",
        "                          normalize=False,\n",
        "                          title='Confusion matrix',\n",
        "                          cmap=plt.cm.Blues):\n",
        "\n",
        "    plt.imshow(cm, interpolation='nearest', cmap=cmap)\n",
        "    plt.title(title)\n",
        "    plt.colorbar()\n",
        "    tick_marks = np.arange(len(classes))\n",
        "    plt.xticks(tick_marks, classes, rotation=45)\n",
        "    plt.yticks(tick_marks, classes)\n",
        "\n",
        "    fmt = '.0f'\n",
        "    thresh = cm.max() / 2.\n",
        "    for i, j in itertools.product(range(cm.shape[0]), range(cm.shape[1])):\n",
        "        plt.text(j, i, format(cm[i, j], fmt),\n",
        "                 horizontalalignment=\"center\",\n",
        "                 color=\"white\" if cm[i, j] > thresh else \"black\")\n",
        "\n",
        "    plt.tight_layout()\n",
        "    plt.ylabel('True label')\n",
        "    plt.xlabel('Predicted label')\n",
        "print(confusion_matrix(y_test, yhat, labels=[1,0]))"
      ],
      "metadata": {
        "colab": {
          "base_uri": "https://localhost:8080/"
        },
        "id": "NRZe10kjUSkR",
        "outputId": "fca94242-5caa-4e26-f79d-2ccbc46f7a79"
      },
      "execution_count": 11,
      "outputs": [
        {
          "output_type": "stream",
          "name": "stdout",
          "text": [
            "[[34 17]\n",
            " [ 9 40]]\n"
          ]
        }
      ]
    },
    {
      "cell_type": "code",
      "source": [
        "# Compute confusion matrix\n",
        "cnf_matrix = confusion_matrix(y_test, yhat, labels=[1,0])\n",
        "np.set_printoptions(precision=2)\n",
        "\n",
        "# Plot non-normalized confusion matrix\n",
        "plt.figure()\n",
        "plot_confusion_matrix(cnf_matrix, classes=['Win=1','Loss=0'],  title='Confusion matrix')"
      ],
      "metadata": {
        "colab": {
          "base_uri": "https://localhost:8080/",
          "height": 311
        },
        "id": "Ih0ZzgJiUdwZ",
        "outputId": "9f0fe4b3-6610-4817-e06c-443969559026"
      },
      "execution_count": 12,
      "outputs": [
        {
          "output_type": "display_data",
          "data": {
            "text/plain": [
              "<Figure size 432x288 with 2 Axes>"
            ],
            "image/png": "[encoded data removed]"
          },
          "metadata": {
            "needs_background": "light"
          }
        }
      ]
    }
  ]
}